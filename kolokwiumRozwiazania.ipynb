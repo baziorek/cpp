{
 "cells": [
  {
   "cell_type": "markdown",
   "id": "1af51a0a-85ea-481a-923c-e6d6a3e6e88d",
   "metadata": {},
   "source": [
    "# Zadanie 4 - SmallVector:"
   ]
  },
  {
   "cell_type": "markdown",
   "id": "0e8a744b-b481-4b30-a614-ef27a13ac891",
   "metadata": {},
   "source": [
    "## 4.Mamy klasę **SmallVector**, która działa podobnie jak [<boost/container/small_vector.hpp>](https://www.boost.org/doc/libs/1_79_0/doc/html/boost/container/small_vector.html), czyli zawiera 10 elementów w tablicy statycznej, a w razie przekroczenia elementów **wszystkie dane** znajdują się w tablicy dynamicznej (wtedy statyczna tablica jest nieużywana)"
   ]
  },
  {
   "cell_type": "markdown",
   "id": "a406e470-6715-4a06-af70-7c32514ff628",
   "metadata": {},
   "source": [
    "## grupa 1:"
   ]
  },
  {
   "cell_type": "code",
   "execution_count": null,
   "id": "1a7b44aa-853a-4c74-a6c5-19ce51e69241",
   "metadata": {},
   "outputs": [],
   "source": [
    "class SmallVector {\n",
    "    using T = int;\n",
    "    static constexpr unsigned N_ = 10;\n",
    "    unsigned size_ = 0, capacity_ = N_;\n",
    "    T data1_[N_] {};\n",
    "    T* data2_ = nullptr;\n",
    "public:\n",
    "    SmallVector() = default;\n",
    "    void push_back(const T& newElement); // nie musimy tego implementować, ale możemy użyć\n",
    "    // ... nasza implementacja\n",
    "};"
   ]
  },
  {
   "cell_type": "markdown",
   "id": "9ca1dd70-6826-4d20-84d9-2ec0fda61912",
   "metadata": {},
   "source": [
    "### a.Proszę do niej napisać: operator przypisania **przenoszący** [5p]:"
   ]
  },
  {
   "cell_type": "code",
   "execution_count": null,
   "id": "27543043-8515-424d-9295-a79f0e69ea52",
   "metadata": {},
   "outputs": [],
   "source": [
    "SmallVector& SmallVector::operator=(SmallVector &&old)\n",
    "{\n",
    "    if(this != &old)\n",
    "    {\n",
    "        size_ = old.size_;\n",
    "        capacity_ = old.capacity_;\n",
    "        old.size_ = old.capacity_ = 0;\n",
    "        if(old.data2_)\n",
    "        {\n",
    "            data2_ = old.data2_;\n",
    "            old.data2_ = nullptr;\n",
    "        }\n",
    "        else\n",
    "        {\n",
    "            std::copy(old.data1_, old.data1_+size_, data1_);\n",
    "            // old.data1_ - nie trzeba tego zerować\n",
    "        }\n",
    "    }\n",
    "    return *this;\n",
    "}"
   ]
  },
  {
   "cell_type": "markdown",
   "id": "26e34bb5-9393-42b3-a3c8-930d3a5f46d6",
   "metadata": {},
   "source": [
    "alternatywna wersja, która używa [std::exchange](https://en.cppreference.com/w/cpp/utility/exchange):"
   ]
  },
  {
   "cell_type": "code",
   "execution_count": null,
   "id": "47123088-d3a6-4b50-a00b-a38448005775",
   "metadata": {},
   "outputs": [],
   "source": [
    "SmallVector& SmallVector::operator=(SmallVector &&old)\n",
    "{\n",
    "    if(this != &old)\n",
    "    {\n",
    "        size_ = std::exchange(old.size_, 0);\n",
    "        capacity_ = std::exchange(old.capacity_, 0);\n",
    "\n",
    "        if(size_ > N)\n",
    "        {\n",
    "            data2_ = std::exchange(old.data2_, nullptr);\n",
    "        }\n",
    "        else\n",
    "        {\n",
    "            std::copy(old.data1_, old.data1_+size_, data1_);\n",
    "            // old.data1_ - nie trzeba tego zerować\n",
    "        }\n",
    "    }\n",
    "    return *this;\n",
    "}"
   ]
  },
  {
   "cell_type": "markdown",
   "id": "082021e4-44c5-4679-a562-66fcec549929",
   "metadata": {},
   "source": [
    "### b.Proszę do powyższej klasy napisać konstruktor **kopiujący** [3p]:"
   ]
  },
  {
   "cell_type": "code",
   "execution_count": null,
   "id": "78e9a039-2aa5-489b-9c8c-7db86ef06307",
   "metadata": {},
   "outputs": [],
   "source": [
    "SmallVector::SmallVector(const SmallVector& other)\n",
    "{\n",
    "    if (other.size_ < N_)\n",
    "    {\n",
    "        for(decltype(size_) i = 0; i < other.size_; i++)\n",
    "            data1_[i] = other.data1_[i];\n",
    "        data2_ = nullptr;\n",
    "    }\n",
    "    else\n",
    "    {\n",
    "        data2_ = new int[other.size_];\n",
    "        for(decltype(size_) i = 0; i < other.size_; i++)\n",
    "            data2_[i] = other.data2_[i];\n",
    "    }\n",
    "    capacity_ = other.capacity_;\n",
    "    size_ = other.size_;\n",
    "}"
   ]
  },
  {
   "cell_type": "markdown",
   "id": "7d51101f-9090-489e-b6ee-c6c2f33274c1",
   "metadata": {},
   "source": [
    "II wersja, która oddelegowywuje kamsymalnie dużo na listę inicjalizacyjną, oraz używa [std::exchange](https://en.cppreference.com/w/cpp/utility/exchange):"
   ]
  },
  {
   "cell_type": "code",
   "execution_count": null,
   "id": "a2153b68-413f-4e49-9710-45fc771c3803",
   "metadata": {},
   "outputs": [],
   "source": [
    "SmallVector::SmallVector(const SmallVector& other): \n",
    "    size_(other.size_),\n",
    "    capacity_(other.capacity_),\n",
    "    data2_(size_ > N ? new T[size_] : nullptr)\n",
    "{\n",
    "    std::copy(other.data1_, other.data1_ + other.size_, data1_);\n",
    "    /// alternatywnie, gdyz dla statycznych tablic dziala:\n",
    "    //std::copy(begin(other.data1_), end(other.data1_), begin(data1_);\n",
    "}"
   ]
  },
  {
   "cell_type": "markdown",
   "id": "0cffc4d6-d165-4b2d-8744-44cfe0641ff1",
   "metadata": {},
   "source": [
    "### c.Proszę do niej napisać aby działała pętla zakresowe-for (chodzi o iteratory. Informacja co powinien zawierać iterator na ostatniej stronie) [4p]:"
   ]
  },
  {
   "cell_type": "code",
   "execution_count": null,
   "id": "e2575aa8-5204-4a00-8474-0a20b0c902a1",
   "metadata": {},
   "outputs": [],
   "source": [
    "T* SmallVector::begin()\n",
    "{\n",
    "    if(size_ < N_)\n",
    "    { \n",
    "        return data1_; \n",
    "    }\n",
    "    return data2_;\n",
    "}\n",
    "\n",
    "T* SmallVector::end()\n",
    "{\n",
    "    if(size_ < N_)\n",
    "    { \n",
    "        return data1_ + size_; \n",
    "    }\n",
    "    return data2_ + size_;\n",
    "} \n",
    "\n",
    "// jak widać wystarczy zwrócić wskaźnik, nie trzeba definiować klasy `iterator`, gdyż mamy pamięć ciągłą!"
   ]
  },
  {
   "cell_type": "markdown",
   "id": "a24c97c6-e90f-486b-be31-381caa945af1",
   "metadata": {},
   "source": [
    "II wersja, która używa operatora 3-argumentowego:"
   ]
  },
  {
   "cell_type": "code",
   "execution_count": null,
   "id": "b5f8298c-a91c-444f-9426-d348c29afa63",
   "metadata": {},
   "outputs": [],
   "source": [
    "T* SmallVector::begin()\n",
    "{\n",
    "    return (size_ < N_) ? data1_ : data2_;\n",
    "}\n",
    "\n",
    "T* SmallVector::end()\n",
    "{\n",
    "    return (size_ < N_) ? data1_ + size_ : data2_ + size_;\n",
    "}"
   ]
  },
  {
   "cell_type": "markdown",
   "id": "26e0fac8-1a75-4783-b1e0-aed3c4aeecb5",
   "metadata": {},
   "source": [
    "### częste błędy w tej grupie:"
   ]
  },
  {
   "cell_type": "code",
   "execution_count": null,
   "id": "c898fdb0-5cbf-46bc-8390-aa2248d41445",
   "metadata": {},
   "outputs": [],
   "source": [
    "/*\n",
    "data1_ = other.data1_; - tak nie można bo to statyczna tablica!\n",
    "data2_ = other.data2_; - przy kopiowaniu to spowoduje, że będą dwa wskaźniki wskazywać na tę samą pamięć\n",
    "data2_.push_back(...); - to nie kontener i nie ta grupa:D\n",
    "+ wiele z tych co dla grupy2\n",
    "*/"
   ]
  },
  {
   "cell_type": "markdown",
   "id": "d59e5215-1fba-4ebb-832f-5b6b09346014",
   "metadata": {},
   "source": [
    "## grupa 2:"
   ]
  },
  {
   "cell_type": "code",
   "execution_count": null,
   "id": "4971341a-4b1c-4fe0-b783-9a6a8eabf1f8",
   "metadata": {},
   "outputs": [],
   "source": [
    "#include <array>\n",
    "#include <vector>\n",
    "#include <utility> // std::exchange()\n",
    "\n",
    "class SmallVector {\n",
    "    using T = int;\n",
    "    static constexpr unsigned N_ = 10;\n",
    "    unsigned size_ = 0;\n",
    "    std::array<T, N_> data1_;\n",
    "    std::vector<T> data2_;\n",
    "public:\n",
    "    SmallVector() = default;\n",
    "    void push_back(const T& newElement); // nie musimy tego implementować, ale możemy użyć\n",
    "    // ... nasza implementacja\n",
    "};"
   ]
  },
  {
   "cell_type": "markdown",
   "id": "ab0c4bd3-d34c-435c-b494-582e6dfdf38f",
   "metadata": {},
   "source": [
    "### a.Proszę do niej napisać: operator przypisania **kopiujący** [5p]:"
   ]
  },
  {
   "cell_type": "code",
   "execution_count": null,
   "id": "87e15476-341d-43e7-a9a5-3b260c6efa5a",
   "metadata": {},
   "outputs": [],
   "source": [
    "SmallVector& SmallVector::operator=(const SmallVector& other)\n",
    "{\n",
    "    if(&other != this) {\n",
    "        // tutaj mamy kontenery standardowe, więc one mają operator=\n",
    "        data1_ = other.data1_;\n",
    "        data2_ = other.data2_;\n",
    "        size_ = other.size_;\n",
    "    }\n",
    "    return *this;\n",
    "}"
   ]
  },
  {
   "cell_type": "markdown",
   "id": "2954a59f-7a75-4333-b944-257a266e8dee",
   "metadata": {},
   "source": [
    "alternatywnie, można bazować na domyślnie wygenerowanym, czyli napisać jak poniżej (nienapisanie w ogóle nie przekonuje mnie, że ktoś wiedział, że się sam taki wygeneruje):"
   ]
  },
  {
   "cell_type": "code",
   "execution_count": null,
   "id": "9178603f-e4d9-45be-b9b9-fe669040cdd2",
   "metadata": {},
   "outputs": [],
   "source": [
    "SmallVector& SmallVector::operator=(const SmallVector& other) = default;"
   ]
  },
  {
   "cell_type": "markdown",
   "id": "639dd5d2-b239-4a64-988e-ed2357258a96",
   "metadata": {},
   "source": [
    "### b.Proszę do powyższej klasy napisać konstruktor **przenoszący** [3p]:"
   ]
  },
  {
   "cell_type": "code",
   "execution_count": null,
   "id": "6d4a3b16-1737-4397-b2a1-aca51ffdf8e9",
   "metadata": {},
   "outputs": [],
   "source": [
    "SmallVector::SmallVector(SmallVector &&other) {\n",
    "    data1_ = other.data1_;\n",
    "    data2_ = other.data2_;\n",
    "    size_ = other.size_;\n",
    "\n",
    "    other.size_ = 0;\n",
    "    other.data2_.clear();\n",
    "}"
   ]
  },
  {
   "cell_type": "markdown",
   "id": "05870f63-78e9-4c12-a43c-332e3d3489e9",
   "metadata": {},
   "source": [
    "II wersja, przez użycie `std::swap()` (implementacja poniżej)"
   ]
  },
  {
   "cell_type": "code",
   "execution_count": null,
   "id": "4c596651-141f-4431-922c-fc4e76b6757a",
   "metadata": {},
   "outputs": [],
   "source": [
    "SmallVector::SmallVector(SmallVector &&other){\n",
    "    std::swap(data1_, other.data1_);\n",
    "    std::swap(data2_, other.data2_);\n",
    "    std::swap(size_, other.size_);\n",
    "}\n",
    "/** Słowem wyjaśnienia - w klasie inicjalizujemy pole size_ = 0, dlatego taka wymiana w pełni załatwia sprawę **/"
   ]
  },
  {
   "cell_type": "markdown",
   "id": "29d0faae-e099-408c-8813-323fa4356bae",
   "metadata": {},
   "source": [
    "III wersja - użycie listy inicjalizacyjnej, aby zamiast wołać dla każdej składowej konstruktor domyślny i opierator= zawołać od razu odpowiedni konstruktor:"
   ]
  },
  {
   "cell_type": "code",
   "execution_count": null,
   "id": "1d3251f2-edf8-4134-a367-039eee102cf9",
   "metadata": {},
   "outputs": [],
   "source": [
    "SmallVector::SmallVector(SmallVector &&other) :\n",
    "    size_(other.size_), data1_(other.data1_), data2_(other.data2_) {\n",
    "\n",
    "    other.size_ = 0;\n",
    "    other.data2_.clear();\n",
    "}"
   ]
  },
  {
   "cell_type": "markdown",
   "id": "3195fb26-e601-44d8-9fba-d94b674ab407",
   "metadata": {},
   "source": [
    "IV wersja: ale na dobrą sprawę po co wołać wpierw konstruktory kopiujące aby potem czyścić zawartość kontenerów, jeśli my chcemy przenieść - od razu wołajmy konstruktory na liście inicjalizacyjnej:"
   ]
  },
  {
   "cell_type": "code",
   "execution_count": null,
   "id": "15559177-e89f-41aa-8bda-50fffa69f492",
   "metadata": {},
   "outputs": [],
   "source": [
    "SmallVector::SmallVector(SmallVector &&other) :\n",
    "    size_(std::exchange(other.size_, 0), data1_(std::move(other.data1_)), data2_(std::move(other.data2_)) \n",
    "{}"
   ]
  },
  {
   "cell_type": "markdown",
   "id": "36372330-17d4-4322-8b83-d1c47d46fedf",
   "metadata": {},
   "source": [
    "### c.Proszę do niej napisać aby działała pętla zakresowe-for (chodzi o iteratory. Informacja co powinien zawierać iterator na ostatniej stronie) [4p]:"
   ]
  },
  {
   "cell_type": "code",
   "execution_count": null,
   "id": "3abc6e27-437f-49b9-bce0-831a953789a5",
   "metadata": {},
   "outputs": [],
   "source": [
    "T* SmallVector::begin()\n",
    "{\n",
    "    return size_ > N_ ?\n",
    "        &data2_[0] : &data1_[0];\n",
    "}\n",
    "\n",
    "T* SmallVector::end()\n",
    "{\n",
    "    return size_ > N_ ?\n",
    "        &data2_[size_] : &data1_[size_];\n",
    "}"
   ]
  },
  {
   "cell_type": "markdown",
   "id": "8b5034cd-d5e0-437c-9cba-7f2faff22f27",
   "metadata": {},
   "source": [
    "### częste błędy w tej grupie:"
   ]
  },
  {
   "cell_type": "code",
   "execution_count": null,
   "id": "94ebfaa2-a24c-4074-8720-88f669cde3a2",
   "metadata": {},
   "outputs": [],
   "source": [
    "// przepisywanie od sąsiada z innej grupy!\n",
    "// czytanie ze zrozumieniem (operator= zamiast konstruktora, przenoszenie zamiast kopiowania)\n",
    "//        delete data1_; - to jest kontener, więc nie usuwamy\n",
    "//        delete[] data2_; - jw.\n",
    "//        data2_.resize(other.data2_.size());\n",
    "//        std::copy(other.data2_.begin(), other.data2_.end(), data2_.begin()); - zanim tak zrobimy musi być miejsce, czyli musimy zawołać: data2_.resize(other.data2_.size());\n",
    "//          alternatywnie można użyć std::back_inserter (wtedy nie trzeba wołać resize()):\n",
    "//         std::copy(other.data2_.begin(), other.data2_.end(), back_inserter(data2_));"
   ]
  }
 ],
 "metadata": {
  "kernelspec": {
   "display_name": "C++14",
   "language": "C++14",
   "name": "xcpp14"
  },
  "language_info": {
   "codemirror_mode": "text/x-c++src",
   "file_extension": ".cpp",
   "mimetype": "text/x-c++src",
   "name": "c++",
   "version": "14"
  }
 },
 "nbformat": 4,
 "nbformat_minor": 5
}
